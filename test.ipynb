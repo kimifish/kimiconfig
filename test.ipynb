{
 "cells": [
  {
   "cell_type": "code",
   "execution_count": 1,
   "metadata": {},
   "outputs": [
    {
     "name": "stdout",
     "output_type": "stream",
     "text": [
      "Config_items_filter(\n",
      "    black=Config_items_filter_black(\n",
      "        enabled=True,\n",
      "        tags=['NoAI'],\n",
      "        endings=['_Machinery']\n",
      "    ),\n",
      "    white=Config_items_filter_white(enabled=False, tags=['AI'], endings=[])\n",
      ")\n",
      "{\n",
      "    'black': Config_items_filter_black(\n",
      "        enabled=True,\n",
      "        tags=['NoAI'],\n",
      "        endings=['_Machinery']\n",
      "    ),\n",
      "    'white': Config_items_filter_white(enabled=False, tags=['AI'], endings=[])\n",
      "}\n",
      "{\n",
      "    'black': {'enabled': True, 'tags': ['NoAI'], 'endings': ['_Machinery']},\n",
      "    'white': {'enabled': False, 'tags': ['AI'], 'endings': []}\n",
      "}\n"
     ]
    }
   ],
   "source": [
    "from dataclasses import asdict\n",
    "from rich.pretty import pretty_repr\n",
    "from kimiconfig import Config\n",
    "cfg = Config(use_dataclasses=True)\n",
    "cfg.load_files('tests/test.yaml')\n",
    "print(pretty_repr(cfg.items_filter))\n",
    "print(pretty_repr(cfg.items_filter.__dict__))\n",
    "print(pretty_repr(asdict(cfg.items_filter)))\n",
    "cfg.validate_config(['openhab_server.host', 'semantic_groups.%.list_tool', 'semantic_groups.%.items_tool'])"
   ]
  },
  {
   "cell_type": "code",
   "execution_count": null,
   "metadata": {},
   "outputs": [],
   "source": []
  }
 ],
 "metadata": {
  "kernelspec": {
   "display_name": ".venv",
   "language": "python",
   "name": "python3"
  },
  "language_info": {
   "codemirror_mode": {
    "name": "ipython",
    "version": 3
   },
   "file_extension": ".py",
   "mimetype": "text/x-python",
   "name": "python",
   "nbconvert_exporter": "python",
   "pygments_lexer": "ipython3",
   "version": "3.10.12"
  }
 },
 "nbformat": 4,
 "nbformat_minor": 2
}
